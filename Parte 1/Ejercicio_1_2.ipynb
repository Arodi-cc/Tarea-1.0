{
  "nbformat": 4,
  "nbformat_minor": 0,
  "metadata": {
    "colab": {
      "provenance": []
    },
    "kernelspec": {
      "name": "python3",
      "display_name": "Python 3"
    },
    "language_info": {
      "name": "python"
    }
  },
  "cells": [
    {
      "cell_type": "code",
      "execution_count": 2,
      "metadata": {
        "id": "xm2-MOWBdjIU",
        "colab": {
          "base_uri": "https://localhost:8080/"
        },
        "outputId": "5be77d11-f61b-4a61-d032-26e0d0b477b1"
      },
      "outputs": [
        {
          "output_type": "stream",
          "name": "stdout",
          "text": [
            "La suma de matrices por bloques: [[0, 0, 0], [8, 0, 0], [0, 0, 0]]\n"
          ]
        }
      ],
      "source": [
        "# 2) Sumar dos matrices por bloques\n",
        "def suma_matrices_bloques(A, B):\n",
        "    n = len(A)  # Obtener el tamaño de la matriz\n",
        "    C = [ ]  # una lista vacía para la matriz resultado\n",
        "\n",
        "    # le agregamos los ceros  a la matriz, del mismo tamaño que A y B\n",
        "    for i in range(n):\n",
        "        fila = []\n",
        "        for j in range(n):\n",
        "            fila.append(0)\n",
        "        C.append(fila)\n",
        "\n",
        "    # suma elemento a elemento\n",
        "    for i in range(n):\n",
        "        for j in range(n):\n",
        "            C[i][j] = A[i][j] + B[i][j]\n",
        "\n",
        "    return C  # regresa la matriz resultado\n",
        "\n",
        "# Ejemplo. Sea:\n",
        "A = [[1, -2, 3],\n",
        "     [4, 5, -6],\n",
        "     [-7, 8, 9]]\n",
        "\n",
        "B = [[-1, 2, -3],\n",
        "     [4, -5, 6],\n",
        "     [7, -8, -9]]\n",
        "\n",
        "print(\"La suma de matrices por bloques:\", suma_matrices_bloques(A, B))"
      ]
    }
  ]
}