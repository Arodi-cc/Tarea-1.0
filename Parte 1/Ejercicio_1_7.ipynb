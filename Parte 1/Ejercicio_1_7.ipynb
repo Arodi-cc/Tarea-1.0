{
  "nbformat": 4,
  "nbformat_minor": 0,
  "metadata": {
    "colab": {
      "provenance": []
    },
    "kernelspec": {
      "name": "python3",
      "display_name": "Python 3"
    },
    "language_info": {
      "name": "python"
    }
  },
  "cells": [
    {
      "cell_type": "code",
      "execution_count": 24,
      "metadata": {
        "colab": {
          "base_uri": "https://localhost:8080/"
        },
        "id": "CxUaEOtdJV7G",
        "outputId": "a5b5e464-57b6-41b4-930c-b1e27d419967"
      },
      "outputs": [
        {
          "output_type": "stream",
          "name": "stdout",
          "text": [
            "El vector que vamos a rotar es: [9 0]\n",
            "Nuestro vector despues de la rotación es: [-1.65327318e-15 -9.00000000e+00]\n"
          ]
        }
      ],
      "source": [
        "# Ejercicio 7\n",
        "\n",
        "# Importamos las librerias numpy y math\n",
        "import numpy as np\n",
        "import math\n",
        "\n",
        "'''\n",
        "Implementamos la función vista en clase para multiplicar una matriz por un vector\n",
        "'''\n",
        "\n",
        "def MatVec(Mat, vec):\n",
        "# Inicializa un vector de ceros con la misma cantidad de filas que la matriz Mat\n",
        "    Mv = np.zeros(Mat.shape[0])\n",
        "\n",
        "    # Itera sobre cada fila de la matriz\n",
        "    for ren in range(Mat.shape[0]):\n",
        "        # Itera sobre cada columna de la matriz\n",
        "        for col in range(Mat.shape[1]):\n",
        "        # Realiza la multiplicación de la fila actual de la matriz por el vector\n",
        "            Mv[ren] += Mat[ren, col] * vec[col]\n",
        "\n",
        "    # Devuelve el vector resultante\n",
        "    return Mv\n",
        "\n",
        "\n",
        "# Definimos un vector bidimensional\n",
        "Vec = np.random.randint(0,10,2)\n",
        "print('El vector que vamos a rotar es:', Vec)\n",
        "\n",
        "\n",
        "# Definimos una funcion para rotar el vector\n",
        "\n",
        "def rotar_vector(vector, angulo):\n",
        "\n",
        "    # Convertir el ángulo de grados a radianes\n",
        "    angulo_rad = math.radians(angulo)\n",
        "\n",
        "    # Definimos la matriz de rotación\n",
        "    matriz_rotacion = np.array([\n",
        "        [math.cos(angulo_rad), -math.sin(angulo_rad)],\n",
        "        [math.sin(angulo_rad), math.cos(angulo_rad)]\n",
        "        ])\n",
        "    # Usamos la función para multiplicar una matriz por un vector\n",
        "    vector_rot = MatVec(matriz_rotacion, Vec)\n",
        "\n",
        "    return vector_rot\n",
        "\n",
        "# Escribimos el vector nuevo, además hay que escribir el agulo de la rotacion\n",
        "# que quremos\n",
        "ang = 270\n",
        "Vec_r = rotar_vector(Vec, ang)\n",
        "# Mostrar resultados\n",
        "print('Nuestro vector despues de la rotación es:', Vec_r)"
      ]
    }
  ]
}