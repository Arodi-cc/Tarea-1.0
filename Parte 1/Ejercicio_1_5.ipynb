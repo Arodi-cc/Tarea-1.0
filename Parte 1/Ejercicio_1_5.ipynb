{
  "nbformat": 4,
  "nbformat_minor": 0,
  "metadata": {
    "colab": {
      "provenance": []
    },
    "kernelspec": {
      "name": "python3",
      "display_name": "Python 3"
    },
    "language_info": {
      "name": "python"
    }
  },
  "cells": [
    {
      "cell_type": "markdown",
      "source": [
        "Ejercicio 1.5"
      ],
      "metadata": {
        "id": "JazrsW-kPD09"
      }
    },
    {
      "cell_type": "code",
      "execution_count": 1,
      "metadata": {
        "colab": {
          "base_uri": "https://localhost:8080/"
        },
        "id": "6kYj2zaZPByU",
        "outputId": "527c4470-75f4-43b8-aa23-cf98d2783d41"
      },
      "outputs": [
        {
          "output_type": "stream",
          "name": "stdout",
          "text": [
            "[[175451.1732311  162843.04518869 158993.79480889 ... 147459.54793684\n",
            "  141861.16019947 159983.93397008]\n",
            " [211281.46941139 196086.07797575 191461.22143373 ... 177573.60757695\n",
            "  170827.33310529 192648.41726265]\n",
            " [215307.60714576 199828.68753207 195093.52777044 ... 180948.65553583\n",
            "  174078.64449927 196312.72286617]\n",
            " ...\n",
            " [195053.26188018 181034.75881018 176746.5930302  ... 163930.4717925\n",
            "  157702.09632116 177841.6397727 ]\n",
            " [175174.18334487 162580.30744561 158737.42355921 ... 147228.0853563\n",
            "  141633.23679193 159727.8303307 ]\n",
            " [181660.48806216 168596.73725779 164607.99985198 ... 152674.6346288\n",
            "  146874.10963864 165636.56810358]]\n"
          ]
        }
      ],
      "source": [
        "import numpy as np\n",
        "\n",
        "def MultMatBloques(A, B, bloque):\n",
        "    \"\"\"\n",
        "    Multiplica dos matrices A y B por bloques.\n",
        "\n",
        "    Parámetros:\n",
        "    A (ndarray): Primera matriz de tamaño (n, n).\n",
        "    B (ndarray): Segunda matriz de tamaño (n, n).\n",
        "    bloque (int): Tamaño del bloque para la multiplicación.\n",
        "\n",
        "    Retorna:\n",
        "    MatResultado  (ndarray): Matriz resultado de la multiplicación de A y B por bloques.\n",
        "\n",
        "    La multiplicación de matrices por bloques se utiliza para dividir las matrices A y B en submatrices más pequeñas,\n",
        "    con el fin de realizar la multiplicación de manera más eficiente para matrices grandes.\n",
        "    \"\"\"\n",
        "    n = A.shape[0]  # Obtener el tamaño de la matriz (asumimos que A es cuadrada)\n",
        "    MatResultado = np.zeros((n, n))  # Inicializar la matriz resultado\n",
        "\n",
        "    # Iterar sobre los bloques de la matriz\n",
        "    for i in range(0, n, bloque):  # Recorremos las filas de A en pasos del tamaño del bloque\n",
        "        for j in range(0, n, bloque):  # Recorremos las columnas de B en pasos del tamaño del bloque\n",
        "            for k in range(0, n, bloque):  # Recorremos las columnas de A y las filas de B en pasos del bloque\n",
        "                # Realizamos la multiplicación de bloques y sumamos al bloque correspondiente de la matriz resultado\n",
        "                MatResultado [i:i+bloque, j:j+bloque] += np.dot(\n",
        "                    A[i:i+bloque, k:k+bloque],  # Bloque de la matriz A\n",
        "                    B[k:k+bloque, j:j+bloque]   # Bloque de la matriz B\n",
        "                )\n",
        "    return MatResultado\n",
        "\n",
        "def MatPotencia(A, exponente, bloque=10):\n",
        "    \"\"\"\n",
        "    Calcula A^exponente usando multiplicación de matrices por bloques.\n",
        "\n",
        "    Parámetros:\n",
        "    A (ndarray): Matriz de tamaño (n, n) para elevar.\n",
        "    exponente (int): El exponente al que elevar la matriz A.\n",
        "    bloque (int): Tamaño del bloque para la multiplicación, por defecto 10.\n",
        "\n",
        "    Retorna:\n",
        "    MatResultado (ndarray): Matriz A elevada a la potencia 'exponente'.\n",
        "\n",
        "    Este algoritmo utiliza el método de la exponenciación binaria, que es más eficiente para calcular\n",
        "    grandes potencias de matrices. La multiplicación de matrices por bloques se utiliza para dividir las\n",
        "    operaciones de multiplicación en bloques más pequeños.\n",
        "    \"\"\"\n",
        "    n = A.shape[0]  # Obtener el tamaño de la matriz (asumimos que A es cuadrada)\n",
        "    MatResultado = np.eye(n)  # Inicializamos la matriz identidad\n",
        "    base = A.copy()  # Usamos A como base para las multiplicaciones sucesivas\n",
        "\n",
        "    # Exponentiación binaria\n",
        "    while exponente > 0:\n",
        "        if exponente % 2 == 1:  # Si el exponente es impar\n",
        "            MatResultado = MultMatBloques(MatResultado, base, bloque)  # Multiplicamos result por base\n",
        "        base = MultMatBloques(base, base, bloque)  # Elevamos base a la potencia 2\n",
        "        exponente //= 2  # Reducimos el exponente (división entera)\n",
        "\n",
        "    return MatResultado\n",
        "\n",
        "# Generar una matriz aleatoria de 50x50\n",
        "A = np.random.rand(50, 50)\n",
        "exponente = 5\n",
        "\n",
        "# Calcular la potencia de la matriz\n",
        "PotenciaA = MatPotencia(A, exponente)\n",
        "print(PotenciaA)\n"
      ]
    }
  ]
}