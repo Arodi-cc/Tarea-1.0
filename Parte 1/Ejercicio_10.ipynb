{
  "nbformat": 4,
  "nbformat_minor": 0,
  "metadata": {
    "colab": {
      "provenance": []
    },
    "kernelspec": {
      "name": "python3",
      "display_name": "Python 3"
    },
    "language_info": {
      "name": "python"
    }
  },
  "cells": [
    {
      "cell_type": "code",
      "execution_count": 21,
      "metadata": {
        "colab": {
          "base_uri": "https://localhost:8080/"
        },
        "id": "spcSxhjgPc59",
        "outputId": "51a1b216-cb63-4450-dc6e-42146c3353fd"
      },
      "outputs": [
        {
          "output_type": "stream",
          "name": "stdout",
          "text": [
            "Matriz A: [[1, 2, 6], [3, 9, 2], [0, 5, 4]]\n",
            "Norma infinito: 14\n"
          ]
        }
      ],
      "source": [
        "# Ejercicio 10\n",
        "import numpy as np\n",
        "import random\n",
        "\n",
        "# Definimos una funcion para calcular la norma infinito\n",
        "def norma_infinito(matriz):\n",
        "\n",
        "    max_suma = 0  # Inicializamos el valor máximo en 0\n",
        "\n",
        "    # iteramos sobre cada fila i de la matriz\n",
        "    for i in matriz:\n",
        "        suma_fila = 0  #La suma de las filas empieza en 0\n",
        "        for j in i:\n",
        "            suma_fila += abs(j)  # Acumula el valor absoluto de cada elemento\n",
        "\n",
        "        if suma_fila > max_suma:\n",
        "          # Actualizamos el valor máximo si la suma de la fila es mayor\n",
        "            max_suma = suma_fila\n",
        "    return max_suma\n",
        "\n",
        "# Definimos un matriz aleatoria de 3x3 que toma valores aleatorios entre 0 y 10\n",
        "\n",
        "A = []\n",
        "\n",
        "for i in range(3):\n",
        "    fila = []\n",
        "    for j in range(3):\n",
        "        fila.append(random.randint(0, 10))\n",
        "    A.append(fila)\n",
        "\n",
        "# Cálculamos la norma\n",
        "resultado = norma_infinito(A)\n",
        "# Resultados\n",
        "print(\"Matriz A:\", A)\n",
        "print(\"Norma infinito:\", resultado)\n"
      ]
    }
  ]
}
