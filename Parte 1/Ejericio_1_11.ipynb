{
  "nbformat": 4,
  "nbformat_minor": 0,
  "metadata": {
    "colab": {
      "provenance": []
    },
    "kernelspec": {
      "name": "python3",
      "display_name": "Python 3"
    },
    "language_info": {
      "name": "python"
    }
  },
  "cells": [
    {
      "cell_type": "code",
      "source": [
        "import numpy as np\n",
        "#Tenemos que la norma 2 es la raiz de la suma de las entradas elevadas al cuadrado\n",
        "#(similar a cuando se calcula la norma 2 de un vector)\n",
        "\n",
        "def main():\n",
        "    # Solicitar al usuario las dimensiones de la matriz\n",
        "    filas = int(input(\"Ingrese el número de filas: \"))\n",
        "    columnas = int(input(\"Ingrese el número de columnas: \"))\n",
        "\n",
        "    # Crear una matriz de ceros con las dimensiones especificadas\n",
        "    matriz = np.zeros((filas, columnas))\n",
        "\n",
        "    # Rellenar la matriz con los elementos ingresados por el usuario\n",
        "    print(\"Ingrese los elementos de la matriz:\")\n",
        "    for i in range(filas):#itera sobre las filas\n",
        "        for j in range(columnas):#itera sobre las columnas\n",
        "            matriz[i, j] = float(input(f\"Elemento [{i+1}][{j+1}]: \")) #se van llenando las entradas de la matriz con valores que el usuario ingrese     # Calcular la norma 2\n",
        "    # Se eleva al cuadrado cada entrada de la matriz, se suman y se obtiene la raíz cuadrada\n",
        "    norma = np.sqrt(np.sum(matriz ** 2))\n",
        "\n",
        "    print(\"La norma 2 de la matriz es:\", norma)\n",
        "\n",
        "if __name__ == '__main__':\n",
        "    main()\n"
      ],
      "metadata": {
        "id": "gvQHIr3ajrRR",
        "colab": {
          "base_uri": "https://localhost:8080/"
        },
        "outputId": "ac5ea106-8d5c-4545-c005-8ffc46c69ff4"
      },
      "execution_count": 1,
      "outputs": [
        {
          "output_type": "stream",
          "name": "stdout",
          "text": [
            "Ingrese el número de filas: 3\n",
            "Ingrese el número de columnas: 3\n",
            "Ingrese los elementos de la matriz:\n",
            "Elemento [1][1]: 4\n",
            "Elemento [1][2]: 1\n",
            "Elemento [1][3]: 2\n",
            "Elemento [2][1]: 3\n",
            "Elemento [2][2]: 4\n",
            "Elemento [2][3]: 5\n",
            "Elemento [3][1]: 1\n",
            "Elemento [3][2]: 1\n",
            "Elemento [3][3]: 1\n",
            "La norma 2 de la matriz es: 8.602325267042627\n"
          ]
        }
      ]
    }
  ]
}