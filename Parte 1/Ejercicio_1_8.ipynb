{
  "nbformat": 4,
  "nbformat_minor": 0,
  "metadata": {
    "colab": {
      "provenance": []
    },
    "kernelspec": {
      "name": "python3",
      "display_name": "Python 3"
    },
    "language_info": {
      "name": "python"
    }
  },
  "cells": [
    {
      "cell_type": "markdown",
      "source": [
        "Ejercicio 1.8\n"
      ],
      "metadata": {
        "id": "PsXgARghQWlw"
      }
    },
    {
      "cell_type": "code",
      "execution_count": 2,
      "metadata": {
        "colab": {
          "base_uri": "https://localhost:8080/"
        },
        "id": "3RtIViFBQUbW",
        "outputId": "1caa993a-c388-4da3-d25a-74cf429727be"
      },
      "outputs": [
        {
          "output_type": "stream",
          "name": "stdout",
          "text": [
            "Vector original: [1 0 0]\n",
            "Vector rotado: [ 0.92387953 -0.38268343  0.        ]\n"
          ]
        }
      ],
      "source": [
        "import numpy as np\n",
        "\n",
        "def RotacionMat(eje, angulo):\n",
        "    \"\"\"\n",
        "    Devuelve la matriz de rotación de un ángulo theta alrededor de un eje dado.\n",
        "\n",
        "    Parámetros:\n",
        "    axis (array-like): Un vector de 3 elementos que define el eje de rotación.\n",
        "                        Este vector debe ser un vector unitario.\n",
        "    theta (float): El ángulo de rotación en radianes.\n",
        "\n",
        "    Retorna:\n",
        "    ndarray: Una matriz de rotación 3x3 que representa la rotación alrededor del eje especificado por el ángulo theta.\n",
        "\n",
        "    La matriz de rotación se calcula usando la fórmula de la rotación en 3D, derivada de los cuaterniones:\n",
        "        R = [[a² + b² - c² - d², 2(bc - ad), 2(bd + ac)],\n",
        "             [2(bc + ad), a² + c² - b² - d², 2(cd - ab)],\n",
        "             [2(bd - ac), 2(cd + ab), a² + d² - b² - c²]]\n",
        "    donde:\n",
        "    a = cos(θ / 2)\n",
        "    b, c, d = -eje * sin(θ / 2)\n",
        "\n",
        "    Esta función utiliza la normalización del vector eje para asegurar que la rotación se realice alrededor de un eje unitario.\n",
        "    \"\"\"\n",
        "    eje = np.array(eje)  # Convertir el eje a un arreglo de NumPy\n",
        "    eje = eje / np.linalg.norm(eje)  # Normalizar el eje de rotación\n",
        "    a = np.cos(angulo / 2.0)  # Cálculo de 'a'\n",
        "    b, c, d = -eje * np.sin(angulo / 2.0)  # Cálculo de 'b', 'c' y 'd'\n",
        "\n",
        "    # Construir la matriz de rotación utilizando la fórmula de los cuaterniones\n",
        "    return np.array([\n",
        "        [a*a + b*b - c*c - d*d, 2*(b*c - a*d), 2*(b*d + a*c)],\n",
        "        [2*(b*c + a*d), a*a + c*c - b*b - d*d, 2*(c*d - a*b)],\n",
        "        [2*(b*d - a*c), 2*(c*d + a*b), a*a + d*d - b*b - c*c]\n",
        "    ])\n",
        "\n",
        "def RotadoVec(vector,eje, angulo):\n",
        "    \"\"\"\n",
        "    Rota un vector tridimensional en torno a un eje dado un ángulo theta.\n",
        "\n",
        "    Parámetros:\n",
        "    vector (array-like): El vector a rotar. Debe ser un arreglo de 3 elementos.\n",
        "    eje (array-like): El eje de rotación, un vector tridimensional.\n",
        "    theta (float): El ángulo de rotación en radianes.\n",
        "\n",
        "    Retorna:\n",
        "    ndarray: El vector rotado, como un arreglo de 3 elementos.\n",
        "\n",
        "    La función realiza la rotación del vector usando la matriz de rotación calculada previamente.\n",
        "    \"\"\"\n",
        "    R = RotacionMat(eje, angulo)  # Obtener la matriz de rotación\n",
        "    return np.dot(R, vector)  # Multiplicar la matriz de rotación por el vector\n",
        "\n",
        "# Ejemplo de uso\n",
        "vector = np.array([1, 0, 0])  # Vector a rotar (vector en el eje X)\n",
        "eje = np.array([0, 0, 1])  # Eje de rotación (eje Z)\n",
        "angulo = np.pi /8  # Rotación de 45 grados (π/8 radianes)\n",
        "\n",
        "vectorRotado = RotadoVec(vector, eje, angulo)  # Rotar el vector\n",
        "print(\"Vector original:\", vector)\n",
        "print(\"Vector rotado:\", vectorRotado)\n",
        "\n"
      ]
    }
  ]
}