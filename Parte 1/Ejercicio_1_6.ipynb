{
  "nbformat": 4,
  "nbformat_minor": 0,
  "metadata": {
    "colab": {
      "provenance": []
    },
    "kernelspec": {
      "name": "python3",
      "display_name": "Python 3"
    },
    "language_info": {
      "name": "python"
    }
  },
  "cells": [
    {
      "cell_type": "code",
      "execution_count": 1,
      "metadata": {
        "colab": {
          "base_uri": "https://localhost:8080/"
        },
        "id": "aMmFgfdduayU",
        "outputId": "0c6919c4-ef90-4855-a3d4-57dcad9e3e05"
      },
      "outputs": [
        {
          "output_type": "stream",
          "name": "stdout",
          "text": [
            "El Producto cruz entre vectores: [-3, 6, -3]\n"
          ]
        }
      ],
      "source": [
        "# 6)  calcular el producto cruz entre dos vectores tridimensionales\n",
        "def producto_cruz(v1, v2):\n",
        "    a = v1[1] * v2[2] - v1[2] * v2[1]  # Componente en x\n",
        "    b = v1[2] * v2[0] - v1[0] * v2[2]  # Componente en y\n",
        "    c = v1[0] * v2[1] - v1[1] * v2[0]  # Componente en z\n",
        "    return [a, b, c]  #Devolver el vector resultante\n",
        "\n",
        "# Ejemplo. Sea:\n",
        "v1 = [1, 2, 3]\n",
        "v2 = [4, 5, 6]\n",
        "\n",
        "print(\"El Producto cruz entre vectores:\", producto_cruz(v1, v2))"
      ]
    }
  ]
}