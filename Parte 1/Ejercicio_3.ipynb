{
  "nbformat": 4,
  "nbformat_minor": 0,
  "metadata": {
    "colab": {
      "provenance": []
    },
    "kernelspec": {
      "name": "python3",
      "display_name": "Python 3"
    },
    "language_info": {
      "name": "python"
    }
  },
  "cells": [
    {
      "cell_type": "markdown",
      "source": [],
      "metadata": {
        "id": "aubH7WqqIboa"
      }
    },
    {
      "cell_type": "code",
      "execution_count": 82,
      "metadata": {
        "id": "WSdJL0FXIYg-",
        "colab": {
          "base_uri": "https://localhost:8080/"
        },
        "outputId": "fc1f0ac2-ced3-494b-bd9f-fcb86365610c"
      },
      "outputs": [
        {
          "output_type": "stream",
          "name": "stdout",
          "text": [
            "u = [2.38184615 3.29750635 2.23114765 4.22726051 2.11525186 1.24522836\n",
            " 7.73046303 8.88126321 9.00197072 2.353447   8.02057981 4.39937596\n",
            " 2.54536201 1.8067453  0.67734191 5.00417267 6.31278164 7.69800556\n",
            " 7.50683883 8.28902249 2.28363492 7.76855653 1.81324532 6.48133243\n",
            " 8.50685484 0.02537774 9.91139535 0.31341054 6.43587582 1.41194751\n",
            " 9.98022359 0.89007848 9.83204997 4.08683409 1.82290628 2.54997162\n",
            " 5.80330326 0.22918062 8.7863767  3.44961876 2.48028549 4.49701747\n",
            " 1.49588196 8.96160168 9.92149376 3.86710855 0.60730298 9.9078166\n",
            " 8.19334822 6.17933713 8.48305515 6.87740503 6.49677301 1.21084426\n",
            " 8.29393597 8.89595909 6.76196978 0.30233842 4.60501261 9.57652401\n",
            " 8.90936586 8.56892046 5.2995122  1.63287672 4.00125086]\n",
            "\n",
            "v = [7.76557854 8.29448943 9.44730642 4.86662571 6.57746858 1.48606265\n",
            " 6.27514001 5.48605514 3.84203251 1.01627011 0.73481762 4.43552214\n",
            " 5.1191549  0.86325633 2.70364406 7.25306444 7.84921288 7.22027464\n",
            " 2.79894553 9.67759174 3.27695227 8.48281612 6.84823548 4.13923214\n",
            " 3.33158376 6.08080111 2.308971   4.5426336  5.92844446 7.42059646\n",
            " 2.21435664 0.67828578 1.86790812 6.3687774  8.03607442 2.18693815\n",
            " 5.60962393 3.89657697 0.2687925  0.90996925 0.31540754 4.84435999\n",
            " 7.33136092 0.6093824  2.76526476 0.33759004 1.92541687 6.18777421\n",
            " 4.37265577 2.47813123 2.74818969 1.26615318 6.37682584 7.7760684\n",
            " 5.80770247 4.02980415 1.76247226 7.27236196 0.99679337 2.37833162\n",
            " 7.02499286 0.38973359 5.34107437 1.35843967 6.19908038]\n",
            "\n",
            "El Producto punto por bloques de tamaño 10 , de los vecotres \"u\" y \"v\" es: 1373.2665600743037\n"
          ]
        }
      ],
      "source": [
        "# Ejercicio 3\n",
        "\n",
        "# Importamos la librería numpy\n",
        "import numpy as np\n",
        "import math\n",
        "# Definimos el tamaño del vector\n",
        "n = 65\n",
        "\n",
        "'''\n",
        "# Definimos los vectores u y v, los cuales toman números reales aleatorios entre 0 y 10,\n",
        "y son de dimensión \"n\"\n",
        "'''\n",
        "\n",
        "vector_u = np.random.uniform(0, 10, n)\n",
        "vector_v = np.random.uniform(0, 10, n)\n",
        "\n",
        "\n",
        "\n",
        "# Función para calcular el producto punto por bloques,\n",
        "# que recibe por parametros dos vectores y el tamaño de los bloques\n",
        "def producto_punto_bloques(u, v, t_bloque):\n",
        "\n",
        "    # Declaramos la variable que almacenará el resultado del producto punto\n",
        "    resultado = 0\n",
        "\n",
        "    # Iteramos sobre los vectores en bloques del tamaño que se requiera\n",
        "    for i in range(0, len(u), t_bloque):\n",
        "\n",
        "        # Extraemos cada bloque del vector u y del vector v\n",
        "        bloque_u = u[i:i + t_bloque]\n",
        "        bloque_v = v[i:i + t_bloque]\n",
        "\n",
        "        # Calculamos el producto punto para cada bloque y lo sumamos al resultado total\n",
        "\n",
        "        for j in range(len(bloque_u)):\n",
        "          resultado += np.sum(bloque_u[j] * bloque_v[j])\n",
        "\n",
        "    # Devolvemos el resultado total del producto punto\n",
        "    return resultado\n",
        "\n",
        "\n",
        "# Definimos el tamaño del bloque\n",
        "t_bloque = 10\n",
        "\n",
        "# Resultados:\n",
        "print('u =', vector_u)\n",
        "print()\n",
        "print('v =', vector_v)\n",
        "print()\n",
        "print('El Producto punto por bloques de tamaño', t_bloque,',', 'de los vecotres \"u\" y \"v\" es:',\n",
        "      producto_punto_bloques(vector_u, vector_v, t_bloque))"
      ]
    },
    {
      "cell_type": "code",
      "source": [],
      "metadata": {
        "id": "iyQguvAuwBY_"
      },
      "execution_count": null,
      "outputs": []
    }
  ]
}