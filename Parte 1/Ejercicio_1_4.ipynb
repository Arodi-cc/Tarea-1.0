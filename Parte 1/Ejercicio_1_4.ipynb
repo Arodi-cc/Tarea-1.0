{
  "nbformat": 4,
  "nbformat_minor": 0,
  "metadata": {
    "colab": {
      "provenance": []
    },
    "kernelspec": {
      "name": "python3",
      "display_name": "Python 3"
    },
    "language_info": {
      "name": "python"
    }
  },
  "cells": [
    {
      "cell_type": "code",
      "source": [
        "import numpy as np\n",
        "\n",
        "def Transpuesta(Mat):\n",
        "   for ren in range(Mat.shape[0]):\n",
        "        for col in range(Mat.shape[1]):\n",
        "            if ren < col:\n",
        "                # Intercambia los elementos para obtener la transpuesta\n",
        "                Mat[ren, col], Mat[col, ren] = Mat[col, ren], Mat[ren, col]\n",
        "   return Mat\n",
        "\n",
        "def transpuesta_conjugada(matriz):\n",
        "\n",
        "  matriz_transpuesta = Transpuesta(matriz)  # Obtiene la transpuesta de la matriz utilizando la función Transpuesta.\n",
        "\n",
        "  filas = len(matriz_transpuesta)# Obtiene las dimensiones de la matriz transpuesta.\n",
        "  columnas = len(matriz_transpuesta[0])\n",
        "\n",
        "  # Inicializa la matriz transpuesta conjugada con ceros para almacenar la transpuesta conjugada\n",
        "  transpuesta_conjugada = [[0 for _ in range(columnas)] for _ in range(filas)]\n",
        "\n",
        "  # Calcula la transpuesta conjugada.\n",
        "  for i in range(filas):\n",
        "    for j in range(columnas):\n",
        "      # Obtiene el elemento actual de la matriz transpuesta.\n",
        "      elemento = matriz_transpuesta[i][j]\n",
        "\n",
        "      # Calcula el conjugado complejo si es un número complejo.\n",
        "      if isinstance(elemento, complex):#verifica si el numero es complejo\n",
        "        elemento_conjugado = complex(elemento.real, -elemento.imag)#parte compleja y cambia el signo de la parte imaginaria\n",
        "      else:\n",
        "        elemento_conjugado = elemento#si no es complejo, no se hace ningun cambio\n",
        "\n",
        "      # Asigna el conjugado complejo a la posición correspondiente.\n",
        "      transpuesta_conjugada[i][j] = elemento_conjugado\n",
        "\n",
        "  return transpuesta_conjugada\n",
        "\n"
      ],
      "metadata": {
        "id": "7ub89pim7Nmv"
      },
      "execution_count": 8,
      "outputs": []
    }
  ]
}