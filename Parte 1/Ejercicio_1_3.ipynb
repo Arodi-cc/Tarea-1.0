{
  "nbformat": 4,
  "nbformat_minor": 0,
  "metadata": {
    "colab": {
      "provenance": []
    },
    "kernelspec": {
      "name": "python3",
      "display_name": "Python 3"
    },
    "language_info": {
      "name": "python"
    }
  },
  "cells": [
    {
      "cell_type": "markdown",
      "source": [],
      "metadata": {
        "id": "aubH7WqqIboa"
      }
    },
    {
      "cell_type": "code",
      "execution_count": 91,
      "metadata": {
        "id": "WSdJL0FXIYg-",
        "colab": {
          "base_uri": "https://localhost:8080/"
        },
        "outputId": "6f2eadcc-c29f-4716-d1c3-662107490234"
      },
      "outputs": [
        {
          "output_type": "stream",
          "name": "stdout",
          "text": [
            "u = [2.56088178 0.28005724 8.93863161 9.69655261 6.84457392 7.89710473\n",
            " 0.41480366 1.50720679 8.73524687 4.24129612 0.31759122 1.86673215\n",
            " 5.68649695 5.18327846 2.30563172 9.72935    7.50574677 7.0991297\n",
            " 6.03699505 7.71795093 1.20852279 9.08116866 8.03958754 9.42369013\n",
            " 1.00670037 0.04283031 7.8691306  9.85633626 7.37557623 9.30145045\n",
            " 4.35969832 2.17543048 9.04105478 0.03794726 5.8096628  6.88173716\n",
            " 0.48216413 9.12457737 9.15582743 9.5710869  8.15243044 4.63588731\n",
            " 5.43555208 7.6673882  5.12109292 6.06509073 8.47629617 1.1315402\n",
            " 9.10148025 2.47920616 0.2345404  0.24291954 8.91261525 7.21155458\n",
            " 8.74215126 5.27343126 5.67276044 1.42462934 9.5213334  3.80338615\n",
            " 5.40681652 3.27257125 2.34951824 5.22006425 5.14274894]\n",
            "\n",
            "v = [9.80427613 5.46350784 7.94589318 7.97818747 6.47748604 2.73977001\n",
            " 8.64817983 5.76483763 9.08935763 0.51193533 0.65151739 7.76116248\n",
            " 1.22025724 3.87595544 2.24406182 4.91180428 1.7832238  8.82621319\n",
            " 9.41427459 5.79316744 1.9500398  7.01736048 7.50290434 3.52694008\n",
            " 3.61709796 4.30746378 0.51367473 3.96698259 2.6857969  2.68306402\n",
            " 1.41308534 4.47213197 4.22507656 1.71782739 2.82832127 0.61785558\n",
            " 3.33353147 2.27962169 5.18320096 2.38330843 4.63871473 8.18925022\n",
            " 6.79558959 4.43673635 0.90719672 0.1325282  7.11680818 2.18851572\n",
            " 8.65448832 0.81201578 5.53711435 4.8293272  7.71466443 8.93339397\n",
            " 3.40635258 0.37349233 1.83491732 1.4271911  0.92511177 2.78654435\n",
            " 5.79182132 4.24305047 8.61150462 4.69632948 2.87584796]\n",
            "\n",
            "El Producto punto por bloques de tamaño 10 , de los vecotres \"u\" y \"v\" es: 1625.7602215797785\n"
          ]
        }
      ],
      "source": [
        "# Ejercicio 3\n",
        "\n",
        "# Importamos la librería numpy\n",
        "import numpy as np\n",
        "import math\n",
        "# Definimos el tamaño del vector\n",
        "n = 65\n",
        "\n",
        "'''\n",
        "# Definimos los vectores u y v, los cuales toman números reales aleatorios entre 0 y 10,\n",
        "y son de dimensión \"n\"\n",
        "'''\n",
        "\n",
        "vector_u = np.random.uniform(0, 10, n)\n",
        "vector_v = np.random.uniform(0, 10, n)\n",
        "\n",
        "\n",
        "\n",
        "# Función para calcular el producto punto por bloques,\n",
        "# que recibe por parametros dos vectores y el tamaño de los bloques\n",
        "def producto_punto_bloques(u, v, t_bloque):\n",
        "\n",
        "    # Declaramos la variable que almacenará el resultado del producto punto\n",
        "    resultado = 0\n",
        "\n",
        "    # Iteramos sobre los vectores en bloques del tamaño que se requiera\n",
        "    for i in range(0, len(u), t_bloque):\n",
        "\n",
        "        # Extraemos cada bloque del vector u y del vector v\n",
        "        bloque_u = u[i:i + t_bloque]\n",
        "        bloque_v = v[i:i + t_bloque]\n",
        "\n",
        "        # Calculamos el producto punto para cada bloque y lo sumamos al resultado total\n",
        "\n",
        "        for j in range(len(bloque_u)):\n",
        "          resultado += bloque_u[j] * bloque_v[j]\n",
        "\n",
        "    # Devolvemos el resultado total del producto punto\n",
        "    return resultado\n",
        "\n",
        "\n",
        "# Definimos el tamaño del bloque\n",
        "t_bloque = 10\n",
        "\n",
        "# Resultados:\n",
        "print('u =', vector_u)\n",
        "print()\n",
        "print('v =', vector_v)\n",
        "print()\n",
        "print('El Producto punto por bloques de tamaño', t_bloque,',', 'de los vecotres \"u\" y \"v\" es:',\n",
        "      producto_punto_bloques(vector_u, vector_v, t_bloque))"
      ]
    }
  ]
}