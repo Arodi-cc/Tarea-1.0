{
  "nbformat": 4,
  "nbformat_minor": 0,
  "metadata": {
    "colab": {
      "provenance": []
    },
    "kernelspec": {
      "name": "python3",
      "display_name": "Python 3"
    },
    "language_info": {
      "name": "python"
    }
  },
  "cells": [
    {
      "cell_type": "code",
      "execution_count": 2,
      "metadata": {
        "colab": {
          "base_uri": "https://localhost:8080/"
        },
        "id": "2xRn127tux21",
        "outputId": "76eae9db-d004-4f8d-992e-2f4f07f7b5dd"
      },
      "outputs": [
        {
          "output_type": "stream",
          "name": "stdout",
          "text": [
            "La Norma 1 de la matriz A: 18\n"
          ]
        }
      ],
      "source": [
        "# 9) calcular la norma 1 de una matriz\n",
        "def norma(A):\n",
        "    max = 0  # generamos una variable sin valor, donde se guardará el máximo\n",
        "    for i in range(len(A[0])):  # Recorrer columnas\n",
        "        sum_col = 0\n",
        "        for j in range(len(A)):  # Sumar valores absolutos de la columna\n",
        "            sum_col += abs(A[j][i])\n",
        "        if sum_col > max:  # Actualiza el máximo si la suma es mayor\n",
        "            max = sum_col\n",
        "    return max  # Devolver la norma 1\n",
        "\n",
        "#  Ejemplo. Sea:\n",
        "A = [[1, -2, 3],\n",
        "     [4, 5, -6],\n",
        "     [-7, 8, 9]]\n",
        "\n",
        "B = [[-1, 2, -3],\n",
        "     [4, -5, 6],\n",
        "     [7, -8, -9]]\n",
        "\n",
        "print(\"La Norma 1 de la matriz A:\", norma(A))"
      ]
    }
  ]
}