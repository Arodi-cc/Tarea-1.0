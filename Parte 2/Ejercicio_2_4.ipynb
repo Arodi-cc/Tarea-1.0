{
  "nbformat": 4,
  "nbformat_minor": 0,
  "metadata": {
    "colab": {
      "provenance": []
    },
    "kernelspec": {
      "name": "python3",
      "display_name": "Python 3"
    },
    "language_info": {
      "name": "python"
    }
  },
  "cells": [
    {
      "cell_type": "code",
      "execution_count": 27,
      "metadata": {
        "id": "x9AQKie9rIri"
      },
      "outputs": [],
      "source": [
        "import numpy as np\n",
        "from numpy import linalg as LA"
      ]
    },
    {
      "cell_type": "code",
      "source": [
        "# Tamaño de la matriz\n",
        "n = 5\n",
        "\n",
        "# Crear la diagonal principal\n",
        "DP=2*np.ones(n)\n",
        "diagonal_principal = np.diag(DP)\n",
        "\n",
        "# Crear la diagonal superior\n",
        "DS=-np.ones(n-1)\n",
        "diagonal_superior = np.diag(DS, k=1)\n",
        "\n",
        "# Crear la diagonal inferior\n",
        "DI=-np.ones(n-1)\n",
        "diagonal_inferior = np.diag(DI, k=-1)\n",
        "\n",
        "# Sumar las tres diagonales para obtener la matriz tribanda\n",
        "matriz_tribanda = diagonal_principal + diagonal_superior + diagonal_inferior\n",
        "print(matriz_tribanda)\n",
        "\n",
        "b=np.ones(n)"
      ],
      "metadata": {
        "colab": {
          "base_uri": "https://localhost:8080/"
        },
        "id": "YIdXxL_tsQIQ",
        "outputId": "7d2ab7f0-ddad-4d09-bf5e-afd31986028a"
      },
      "execution_count": 28,
      "outputs": [
        {
          "output_type": "stream",
          "name": "stdout",
          "text": [
            "[[ 2. -1.  0.  0.  0.]\n",
            " [-1.  2. -1.  0.  0.]\n",
            " [ 0. -1.  2. -1.  0.]\n",
            " [ 0.  0. -1.  2. -1.]\n",
            " [ 0.  0.  0. -1.  2.]]\n"
          ]
        }
      ]
    },
    {
      "cell_type": "code",
      "source": [
        "from scipy.linalg import lu\n",
        "P, L, U = lu(matriz_tribanda)\n",
        "U"
      ],
      "metadata": {
        "colab": {
          "base_uri": "https://localhost:8080/"
        },
        "id": "MfUWiqGPvQyq",
        "outputId": "b23ebf25-0c1f-442c-bf29-b0f2fd8c29bd"
      },
      "execution_count": 29,
      "outputs": [
        {
          "output_type": "execute_result",
          "data": {
            "text/plain": [
              "array([[ 2.        , -1.        ,  0.        ,  0.        ,  0.        ],\n",
              "       [ 0.        ,  1.5       , -1.        ,  0.        ,  0.        ],\n",
              "       [ 0.        ,  0.        ,  1.33333333, -1.        ,  0.        ],\n",
              "       [ 0.        ,  0.        ,  0.        ,  1.25      , -1.        ],\n",
              "       [ 0.        ,  0.        ,  0.        ,  0.        ,  1.2       ]])"
            ]
          },
          "metadata": {},
          "execution_count": 29
        }
      ]
    },
    {
      "cell_type": "code",
      "source": [
        "def Thomas(DP, DS, DI, b):\n",
        "    n = len(DP)\n",
        "    x = np.zeros(n)\n",
        "\n",
        "\n",
        "    for i in range(1, n):\n",
        "        DP[i] = DP[i] - (DI[i-1] / DP[i-1]) * DS[i-1]\n",
        "        # Ajustamos el vector b\n",
        "        b[i] = b[i] - (DI[i-1] / DP[i-1]) * b[i-1]\n",
        "\n",
        "    # Sustitución hacia adelante\n",
        "    x[0] = b[0] / DP[0]  # Primer elemento\n",
        "    for i in range(1, n):\n",
        "        x[i] = (b[i] - DI[i-1] * x[i-1]) / DP[i]\n",
        "\n",
        "    return x\n",
        "\n",
        "# Tamaño de la matriz\n",
        "n = 5\n",
        "\n",
        "# Diagonal principal\n",
        "DP = 2 * np.ones(n)\n",
        "\n",
        "# Diagonal superior\n",
        "DS = -np.ones(n - 1)\n",
        "\n",
        " # Diagonal inferior\n",
        "DI = -np.ones(n - 1)\n",
        "\n",
        " # Vector b\n",
        "b = np.ones(n)\n",
        "\n",
        "# Solución usando el algoritmo modificado\n",
        "resultado = Thomas(DP, DS, DI, b)\n",
        "print(resultado)\n"
      ],
      "metadata": {
        "id": "xUXW4_0_xieE",
        "outputId": "4b6020d1-c64a-4b5a-feac-56de3c387092",
        "colab": {
          "base_uri": "https://localhost:8080/"
        }
      },
      "execution_count": 25,
      "outputs": [
        {
          "output_type": "stream",
          "name": "stdout",
          "text": [
            "[0.5        1.33333333 2.5        4.         5.83333333]\n"
          ]
        }
      ]
    },
    {
      "cell_type": "code",
      "source": [
        "Thomas(DP,DS,DI,b)"
      ],
      "metadata": {
        "colab": {
          "base_uri": "https://localhost:8080/"
        },
        "id": "xIkeUfDUuTSV",
        "outputId": "0be4f129-54c1-4e12-8b07-815a69e3ea37"
      },
      "execution_count": 30,
      "outputs": [
        {
          "output_type": "execute_result",
          "data": {
            "text/plain": [
              "array([0.5       , 1.33333333, 2.5       , 4.        , 5.83333333])"
            ]
          },
          "metadata": {},
          "execution_count": 30
        }
      ]
    },
    {
      "cell_type": "code",
      "source": [
        "LA.solve(U,b)"
      ],
      "metadata": {
        "id": "d-gSi3CPuZ_D",
        "colab": {
          "base_uri": "https://localhost:8080/"
        },
        "outputId": "e9cff556-5f95-4d03-caf1-41ffaaab61c6"
      },
      "execution_count": 31,
      "outputs": [
        {
          "output_type": "execute_result",
          "data": {
            "text/plain": [
              "array([2.5, 4. , 4.5, 4. , 2.5])"
            ]
          },
          "metadata": {},
          "execution_count": 31
        }
      ]
    }
  ]
}