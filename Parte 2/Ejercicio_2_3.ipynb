{
  "nbformat": 4,
  "nbformat_minor": 0,
  "metadata": {
    "colab": {
      "provenance": []
    },
    "kernelspec": {
      "name": "python3",
      "display_name": "Python 3"
    },
    "language_info": {
      "name": "python"
    }
  },
  "cells": [
    {
      "cell_type": "code",
      "execution_count": 1,
      "metadata": {
        "id": "pJQzMeKWv7lJ"
      },
      "outputs": [],
      "source": [
        "import numpy as np\n",
        "\n",
        "def sistema_dosbandas(A, B):\n",
        "    n = len(B)\n",
        "    # eliminación hacia adelante\n",
        "    for i in range(1, n):\n",
        "        A[i, 0] /= A[i-1, 0]\n",
        "        B[i] -= A[i, 0] * B[i-1]\n",
        "\n",
        "    # resolución hacia atrás\n",
        "    X = np.zeros(n)\n",
        "    X[n-1] = B[n-1] / A[n-1, 0]\n",
        "\n",
        "    for i in range(n-2, -1, -1):\n",
        "        X[i] = (B[i] - A[i, 0] * X[i+1]) / A[i, 0]\n",
        "\n",
        "    return X\n",
        "\n"
      ]
    }
  ]
}